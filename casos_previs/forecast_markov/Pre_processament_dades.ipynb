{
 "cells": [
  {
   "cell_type": "code",
   "execution_count": 1,
   "metadata": {},
   "outputs": [],
   "source": [
    "# Import llibreries\n",
    "\n",
    "import json\n",
    "import os\n",
    "import sys\n",
    "import time\n",
    "import datetime\n",
    "import requests\n",
    "import numpy as np\n",
    "import pandas as pd"
   ]
  },
  {
   "cell_type": "code",
   "execution_count": null,
   "metadata": {},
   "outputs": [
    {
     "data": {
      "text/html": [
       "<div>\n",
       "<style scoped>\n",
       "    .dataframe tbody tr th:only-of-type {\n",
       "        vertical-align: middle;\n",
       "    }\n",
       "\n",
       "    .dataframe tbody tr th {\n",
       "        vertical-align: top;\n",
       "    }\n",
       "\n",
       "    .dataframe thead th {\n",
       "        text-align: right;\n",
       "    }\n",
       "</style>\n",
       "<table border=\"1\" class=\"dataframe\">\n",
       "  <thead>\n",
       "    <tr style=\"text-align: right;\">\n",
       "      <th></th>\n",
       "      <th>data</th>\n",
       "      <th>valor</th>\n",
       "    </tr>\n",
       "  </thead>\n",
       "  <tbody>\n",
       "    <tr>\n",
       "      <th>0</th>\n",
       "      <td>2004-07-26 00:00:00+00:00</td>\n",
       "      <td>6.3</td>\n",
       "    </tr>\n",
       "    <tr>\n",
       "      <th>1</th>\n",
       "      <td>2004-07-26 01:00:00+00:00</td>\n",
       "      <td>6.1</td>\n",
       "    </tr>\n",
       "    <tr>\n",
       "      <th>2</th>\n",
       "      <td>2004-07-26 02:00:00+00:00</td>\n",
       "      <td>6.1</td>\n",
       "    </tr>\n",
       "    <tr>\n",
       "      <th>3</th>\n",
       "      <td>2004-07-26 03:00:00+00:00</td>\n",
       "      <td>5.9</td>\n",
       "    </tr>\n",
       "    <tr>\n",
       "      <th>4</th>\n",
       "      <td>2004-07-26 04:00:00+00:00</td>\n",
       "      <td>5.5</td>\n",
       "    </tr>\n",
       "  </tbody>\n",
       "</table>\n",
       "</div>"
      ],
      "text/plain": [
       "                       data  valor\n",
       "0 2004-07-26 00:00:00+00:00    6.3\n",
       "1 2004-07-26 01:00:00+00:00    6.1\n",
       "2 2004-07-26 02:00:00+00:00    6.1\n",
       "3 2004-07-26 03:00:00+00:00    5.9\n",
       "4 2004-07-26 04:00:00+00:00    5.5"
      ]
     },
     "execution_count": 22,
     "metadata": {},
     "output_type": "execute_result"
    }
   ],
   "source": [
    "# Directori de treball\n",
    "\n",
    "# Ruta on esta el script actual\n",
    "# __path__ = os.path.dirname(os.path.realpath(__file__)) # Si es fitxer .py\n",
    "__path__ = os.getcwd() # Si es fitxer .ipynb\n",
    "\n",
    "path_dades = os.path.join(os.getcwd(), 'Dades_T_estacions_xema_Z1')\n",
    "\n",
    "# Llista nom arxius dades dins del directori\n",
    "files = [f for f in os.listdir(path_dades) if f.endswith('.json')]\n",
    "\n",
    "for file in files:\n",
    "\n",
    "    # Obrir un arxiu json per veure com esta estructurat i com organitzar les dades\n",
    "    with open(os.path.join(path_dades, file), 'r') as f:\n",
    "        data = json.load(f)\n",
    "\n",
    "    # Accedemos a las lecturas (temperaturas) del JSON\n",
    "    lecturas = data[0]['variables'][0]['lectures']\n",
    "\n",
    "    # Convertimos las lecturas a un DataFrame con solo las columnas necesarias\n",
    "    df = pd.DataFrame(lecturas)[['data', 'valor']]\n",
    "\n",
    "\n",
    "# Convertimos la columna 'data' a tipo datetime para análisis posterior\n",
    "df['data'] = pd.to_datetime(df['data'])\n",
    "\n",
    "df.head()\n"
   ]
  },
  {
   "cell_type": "code",
   "execution_count": 23,
   "metadata": {},
   "outputs": [
    {
     "ename": "IndexError",
     "evalue": "list index out of range",
     "output_type": "error",
     "traceback": [
      "\u001b[0;31m---------------------------------------------------------------------------\u001b[0m",
      "\u001b[0;31mIndexError\u001b[0m                                Traceback (most recent call last)",
      "Cell \u001b[0;32mIn[23], line 18\u001b[0m\n\u001b[1;32m     15\u001b[0m     data \u001b[38;5;241m=\u001b[39m json\u001b[38;5;241m.\u001b[39mload(f)\n\u001b[1;32m     17\u001b[0m \u001b[38;5;66;03m# Extraer las lecturas de temperatura\u001b[39;00m\n\u001b[0;32m---> 18\u001b[0m lecturas \u001b[38;5;241m=\u001b[39m \u001b[43mdata\u001b[49m\u001b[43m[\u001b[49m\u001b[38;5;241;43m0\u001b[39;49m\u001b[43m]\u001b[49m[\u001b[38;5;124m'\u001b[39m\u001b[38;5;124mvariables\u001b[39m\u001b[38;5;124m'\u001b[39m][\u001b[38;5;241m0\u001b[39m][\u001b[38;5;124m'\u001b[39m\u001b[38;5;124mlectures\u001b[39m\u001b[38;5;124m'\u001b[39m]\n\u001b[1;32m     20\u001b[0m \u001b[38;5;66;03m# Crear DataFrame con las columnas necesarias\u001b[39;00m\n\u001b[1;32m     21\u001b[0m df_temp \u001b[38;5;241m=\u001b[39m pd\u001b[38;5;241m.\u001b[39mDataFrame(lecturas)[[\u001b[38;5;124m'\u001b[39m\u001b[38;5;124mdata\u001b[39m\u001b[38;5;124m'\u001b[39m, \u001b[38;5;124m'\u001b[39m\u001b[38;5;124mvalor\u001b[39m\u001b[38;5;124m'\u001b[39m]]\n",
      "\u001b[0;31mIndexError\u001b[0m: list index out of range"
     ]
    }
   ],
   "source": [
    "\n",
    "# Obtener la ruta actual (cambia según .py o .ipynb)\n",
    "__path__ = os.getcwd()\n",
    "\n",
    "# Ruta de los archivos JSON\n",
    "path_dades = os.path.join(__path__, 'Dades_T_estacions_xema_Z1')\n",
    "\n",
    "# Listar archivos JSON en el directorio\n",
    "files = [f for f in os.listdir(path_dades) if f.endswith('.json')]\n",
    "\n",
    "# Lista para acumular los DataFrames\n",
    "dfs = []\n",
    "\n",
    "for file in files:\n",
    "    with open(os.path.join(path_dades, file), 'r') as f:\n",
    "        data = json.load(f)\n",
    "\n",
    "    # Extraer las lecturas de temperatura\n",
    "    lecturas = data[0]['variables'][0]['lectures']\n",
    "    \n",
    "    # Crear DataFrame con las columnas necesarias\n",
    "    df_temp = pd.DataFrame(lecturas)[['data', 'valor']]\n",
    "    \n",
    "    # Convertir la columna 'data' a tipo datetime\n",
    "    df_temp['data'] = pd.to_datetime(df_temp['data'])\n",
    "    \n",
    "    # Agregar el DataFrame a la lista\n",
    "    dfs.append(df_temp)\n",
    "\n",
    "# Concatenar todos los DataFrames en uno solo\n",
    "df_final = pd.concat(dfs, ignore_index=True)\n",
    "\n",
    "# Mostrar las primeras filas\n",
    "print(df_final.head())\n",
    "\n",
    "# Opcional: Guardar en CSV para no tener que leer 9000 archivos cada vez\n",
    "df_final.to_csv(\"temperaturas_completas.csv\", index=False)\n"
   ]
  }
 ],
 "metadata": {
  "kernelspec": {
   "display_name": "Python 3",
   "language": "python",
   "name": "python3"
  },
  "language_info": {
   "codemirror_mode": {
    "name": "ipython",
    "version": 3
   },
   "file_extension": ".py",
   "mimetype": "text/x-python",
   "name": "python",
   "nbconvert_exporter": "python",
   "pygments_lexer": "ipython3",
   "version": "3.12.3"
  }
 },
 "nbformat": 4,
 "nbformat_minor": 2
}
