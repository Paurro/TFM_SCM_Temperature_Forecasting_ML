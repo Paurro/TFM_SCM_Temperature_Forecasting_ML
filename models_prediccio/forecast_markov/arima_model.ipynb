{
 "cells": [
  {
   "cell_type": "markdown",
   "metadata": {},
   "source": [
    "# Model Arima for Time Series Forecasting temperature"
   ]
  },
  {
   "cell_type": "markdown",
   "metadata": {},
   "source": [
    "## LLibreries"
   ]
  },
  {
   "cell_type": "code",
   "execution_count": 1,
   "metadata": {},
   "outputs": [],
   "source": [
    "import json\n",
    "import os\n",
    "import sys\n",
    "import time\n",
    "import datetime\n",
    "import requests\n",
    "import numpy as np\n",
    "import pandas as pd\n",
    "import matplotlib.pyplot as plt\n",
    "from sklearn.metrics import confusion_matrix"
   ]
  },
  {
   "cell_type": "code",
   "execution_count": 2,
   "metadata": {},
   "outputs": [
    {
     "data": {
      "text/html": [
       "<div>\n",
       "<style scoped>\n",
       "    .dataframe tbody tr th:only-of-type {\n",
       "        vertical-align: middle;\n",
       "    }\n",
       "\n",
       "    .dataframe tbody tr th {\n",
       "        vertical-align: top;\n",
       "    }\n",
       "\n",
       "    .dataframe thead th {\n",
       "        text-align: right;\n",
       "    }\n",
       "</style>\n",
       "<table border=\"1\" class=\"dataframe\">\n",
       "  <thead>\n",
       "    <tr style=\"text-align: right;\">\n",
       "      <th></th>\n",
       "      <th>data</th>\n",
       "      <th>valor</th>\n",
       "    </tr>\n",
       "  </thead>\n",
       "  <tbody>\n",
       "    <tr>\n",
       "      <th>0</th>\n",
       "      <td>1998-01-01 00:00:00+00:00</td>\n",
       "      <td>-4.6</td>\n",
       "    </tr>\n",
       "    <tr>\n",
       "      <th>1</th>\n",
       "      <td>1998-01-01 01:00:00+00:00</td>\n",
       "      <td>-5.1</td>\n",
       "    </tr>\n",
       "    <tr>\n",
       "      <th>2</th>\n",
       "      <td>1998-01-01 02:00:00+00:00</td>\n",
       "      <td>-5.3</td>\n",
       "    </tr>\n",
       "    <tr>\n",
       "      <th>3</th>\n",
       "      <td>1998-01-01 03:00:00+00:00</td>\n",
       "      <td>-5.5</td>\n",
       "    </tr>\n",
       "    <tr>\n",
       "      <th>4</th>\n",
       "      <td>1998-01-01 04:00:00+00:00</td>\n",
       "      <td>-5.8</td>\n",
       "    </tr>\n",
       "  </tbody>\n",
       "</table>\n",
       "</div>"
      ],
      "text/plain": [
       "                       data  valor\n",
       "0 1998-01-01 00:00:00+00:00   -4.6\n",
       "1 1998-01-01 01:00:00+00:00   -5.1\n",
       "2 1998-01-01 02:00:00+00:00   -5.3\n",
       "3 1998-01-01 03:00:00+00:00   -5.5\n",
       "4 1998-01-01 04:00:00+00:00   -5.8"
      ]
     },
     "execution_count": 2,
     "metadata": {},
     "output_type": "execute_result"
    }
   ],
   "source": [
    "# Directori de treball\n",
    "\n",
    "# Ruta on esta el script actual\n",
    "# __path__ = os.path.dirname(os.path.realpath(__file__)) # Si es fitxer .py\n",
    "__path__ = os.getcwd() # Si es fitxer .ipynb\n",
    "\n",
    "carpeta_dades = 'Dades_T_estacions_xema_Z1'\n",
    "fitxer_dades = 'SCM_T_Z1.json'\n",
    "\n",
    "path_dades = os.path.join(os.getcwd(), carpeta_dades, fitxer_dades)\n",
    "\n",
    "\n",
    "    # Obrir un arxiu json per veure com esta estructurat i com organitzar les dades\n",
    "with open(path_dades, 'r') as f:\n",
    "    data = json.load(f)\n",
    "\n",
    "    # Accedemos a las lecturas (temperaturas) del JSON\n",
    "lecturas = data[0]['variables'][0]['lectures']\n",
    "\n",
    "#     # Convertimos las lecturas a un DataFrame con solo las columnas necesarias\n",
    "df = pd.DataFrame(lecturas)[['data', 'valor']]\n",
    "\n",
    "\n",
    "# Convertimos la columna 'data' a tipo datetime para análisis posterior\n",
    "df['data'] = pd.to_datetime(df['data'])\n",
    "\n",
    "df.head()\n"
   ]
  },
  {
   "cell_type": "code",
   "execution_count": 3,
   "metadata": {},
   "outputs": [
    {
     "data": {
      "text/html": [
       "<div>\n",
       "<style scoped>\n",
       "    .dataframe tbody tr th:only-of-type {\n",
       "        vertical-align: middle;\n",
       "    }\n",
       "\n",
       "    .dataframe tbody tr th {\n",
       "        vertical-align: top;\n",
       "    }\n",
       "\n",
       "    .dataframe thead th {\n",
       "        text-align: right;\n",
       "    }\n",
       "</style>\n",
       "<table border=\"1\" class=\"dataframe\">\n",
       "  <thead>\n",
       "    <tr style=\"text-align: right;\">\n",
       "      <th></th>\n",
       "      <th>data</th>\n",
       "      <th>valor</th>\n",
       "    </tr>\n",
       "  </thead>\n",
       "  <tbody>\n",
       "    <tr>\n",
       "      <th>0</th>\n",
       "      <td>1998-01-01 00:00:00+00:00</td>\n",
       "      <td>-4.6</td>\n",
       "    </tr>\n",
       "    <tr>\n",
       "      <th>1</th>\n",
       "      <td>1998-01-01 01:00:00+00:00</td>\n",
       "      <td>-5.1</td>\n",
       "    </tr>\n",
       "    <tr>\n",
       "      <th>2</th>\n",
       "      <td>1998-01-01 02:00:00+00:00</td>\n",
       "      <td>-5.3</td>\n",
       "    </tr>\n",
       "    <tr>\n",
       "      <th>3</th>\n",
       "      <td>1998-01-01 03:00:00+00:00</td>\n",
       "      <td>-5.5</td>\n",
       "    </tr>\n",
       "    <tr>\n",
       "      <th>4</th>\n",
       "      <td>1998-01-01 04:00:00+00:00</td>\n",
       "      <td>-5.8</td>\n",
       "    </tr>\n",
       "  </tbody>\n",
       "</table>\n",
       "</div>"
      ],
      "text/plain": [
       "                       data  valor\n",
       "0 1998-01-01 00:00:00+00:00   -4.6\n",
       "1 1998-01-01 01:00:00+00:00   -5.1\n",
       "2 1998-01-01 02:00:00+00:00   -5.3\n",
       "3 1998-01-01 03:00:00+00:00   -5.5\n",
       "4 1998-01-01 04:00:00+00:00   -5.8"
      ]
     },
     "execution_count": 3,
     "metadata": {},
     "output_type": "execute_result"
    }
   ],
   "source": [
    "# Agafar només les dades corresponents als hiverns i posar-les en un nou dataframe\n",
    "# Les dates dels hiverns seran del 1 de desembre al 31 de març\n",
    "df_hiverns = df[(df['data'].dt.month >= 11) | (df['data'].dt.month <= 2)]\n",
    "\n",
    "df_hiverns.head()"
   ]
  },
  {
   "cell_type": "code",
   "execution_count": 9,
   "metadata": {},
   "outputs": [],
   "source": [
    "# Estalblim les dades per entrenar el model fins al al hivern 2018-2019 inclos i testejarem amb les dades del hivern 2019-2020\n",
    "\n",
    "# Per l'hivern 2018-2019 agafem fins nomes els mesos de gener i febrer del 2019. Els de novembre i desembre del 2019 ja formen part del següent hivern\n",
    "\n",
    "df_train = df_hiverns[\n",
    "    (df_hiverns['data'].dt.year < 2019) | \n",
    "    ((df_hiverns['data'].dt.year == 2019) & (df_hiverns['data'].dt.month <= 2))]\n",
    "\n",
    "\n",
    "df_test = df_hiverns[\n",
    "    ((df_hiverns['data'].dt.year == 2019) & (df_hiverns['data'].dt.month >= 11)) | \n",
    "    ((df_hiverns['data'].dt.year == 2020) & (df_hiverns['data'].dt.month <= 2))\n",
    "]\n"
   ]
  },
  {
   "cell_type": "code",
   "execution_count": null,
   "metadata": {},
   "outputs": [],
   "source": [
    "# ARIMA model\n",
    "\n",
    "from statsforecast import StatsForecast\n",
    "from statsforecast.models import AutoARIMA\n",
    "\n",
    "# Creem el model AutoARIMA\n",
    "model = AutoARIMA()"
   ]
  },
  {
   "cell_type": "code",
   "execution_count": null,
   "metadata": {},
   "outputs": [],
   "source": []
  }
 ],
 "metadata": {
  "kernelspec": {
   "display_name": "Python 3",
   "language": "python",
   "name": "python3"
  },
  "language_info": {
   "codemirror_mode": {
    "name": "ipython",
    "version": 3
   },
   "file_extension": ".py",
   "mimetype": "text/x-python",
   "name": "python",
   "nbconvert_exporter": "python",
   "pygments_lexer": "ipython3",
   "version": "3.9.1"
  }
 },
 "nbformat": 4,
 "nbformat_minor": 2
}
